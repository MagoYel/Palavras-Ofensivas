{
 "cells": [
  {
   "cell_type": "markdown",
   "id": "c1e79536",
   "metadata": {},
   "source": [
    "## UTULIZANDO A BIBLIOTECA 'PROFANITY'"
   ]
  },
  {
   "cell_type": "code",
   "execution_count": 1,
   "id": "d37ab903",
   "metadata": {},
   "outputs": [],
   "source": [
    "from better_profanity import profanity"
   ]
  },
  {
   "cell_type": "code",
   "execution_count": 5,
   "id": "6e32af21",
   "metadata": {},
   "outputs": [],
   "source": [
    "def censura(texto):\n",
    "    \n",
    "    # Abrindo o arquivo 'txt' e salvando na lista 'palavroes'\n",
    "    f = open('palavroes.txt', 'r')\n",
    "    palavroes = []\n",
    "    for line in f:\n",
    "        palavroes.append(line)\n",
    "    for i in range(15):\n",
    "        palavroes[i] = palavroes[i].replace('\\n', '')\n",
    "    \n",
    "    texto = texto.lower()\n",
    "    #Adicionando palavras 1por1 \n",
    "    #profanity.add_censor_words(['cacete', 'porcaria', 'porra'])\n",
    "    profanity.add_censor_words(palavroes)\n",
    "    \n",
    "    censored = profanity.censor(texto, censor_char='*')\n",
    "    \n",
    "    return censored"
   ]
  },
  {
   "cell_type": "code",
   "execution_count": 69,
   "id": "941a7928",
   "metadata": {},
   "outputs": [],
   "source": [
    "texto = 'Lá vai o palavrão: merda do cacete, porra, você é um CRETINO ANUS, BEBUM, fuck'"
   ]
  },
  {
   "cell_type": "code",
   "execution_count": 70,
   "id": "b96143d6",
   "metadata": {},
   "outputs": [
    {
     "data": {
      "text/plain": [
       "'lá vai o palavrão: merda do cacete, porra, você é um cretino ****, bebum, ****'"
      ]
     },
     "execution_count": 70,
     "metadata": {},
     "output_type": "execute_result"
    }
   ],
   "source": [
    "censura(texto)"
   ]
  },
  {
   "cell_type": "markdown",
   "id": "22ef8a93",
   "metadata": {},
   "source": [
    "# FUNÇÃO PARA IDENTIFICAR UM PALAVRÃO E ANONIMIZAR"
   ]
  },
  {
   "cell_type": "code",
   "execution_count": 32,
   "id": "5ac4d11e",
   "metadata": {},
   "outputs": [],
   "source": [
    "def censored(frase):\n",
    "    \n",
    "    f = open('palavroes.txt', 'r')\n",
    "    palavroes = []\n",
    "    for line in f:\n",
    "        palavroes.append(line)\n",
    "    for i in range(len(palavroes)):\n",
    "        palavroes[i] = palavroes[i].replace('\\n', '')\n",
    "    \n",
    "    frase = frase.lower()\n",
    "    \n",
    "    for i in range(len(palavroes)):\n",
    "        frase = frase.replace(palavroes[i], '****')\n",
    "        \n",
    "    return frase"
   ]
  },
  {
   "cell_type": "code",
   "execution_count": 67,
   "id": "da7ba70d",
   "metadata": {},
   "outputs": [],
   "source": [
    "frase = 'Lá vai um palavrao: merda, porra, buceta, caralho e bebum, caraio, xibiu'"
   ]
  },
  {
   "cell_type": "code",
   "execution_count": 68,
   "id": "df653cd4",
   "metadata": {},
   "outputs": [
    {
     "data": {
      "text/plain": [
       "'lá vai um palavrao: ****, ****, ****, **** e ****, ****, ****'"
      ]
     },
     "execution_count": 68,
     "metadata": {},
     "output_type": "execute_result"
    }
   ],
   "source": [
    "censored(frase)"
   ]
  },
  {
   "cell_type": "code",
   "execution_count": null,
   "id": "a33fd6b7",
   "metadata": {},
   "outputs": [],
   "source": []
  }
 ],
 "metadata": {
  "kernelspec": {
   "display_name": "Python 3 (ipykernel)",
   "language": "python",
   "name": "python3"
  },
  "language_info": {
   "codemirror_mode": {
    "name": "ipython",
    "version": 3
   },
   "file_extension": ".py",
   "mimetype": "text/x-python",
   "name": "python",
   "nbconvert_exporter": "python",
   "pygments_lexer": "ipython3",
   "version": "3.9.7"
  }
 },
 "nbformat": 4,
 "nbformat_minor": 5
}
